{
 "cells": [
  {
   "cell_type": "code",
   "execution_count": 34,
   "id": "8e4f219f",
   "metadata": {},
   "outputs": [],
   "source": [
    "import requests\n",
    "import json"
   ]
  },
  {
   "cell_type": "code",
   "execution_count": 14,
   "id": "5a67f6ad",
   "metadata": {},
   "outputs": [
    {
     "name": "stdout",
     "output_type": "stream",
     "text": [
      "200\n",
      "{\"page\":1,\"results\":[{\"adult\":false,\"backdrop_path\":\"/wJLV2ygHhTHG0nRTXlvA6wS8ubL.jpg\",\"genre_ids\":[80,53,35],\"id\":534780,\"original_language\":\"hi\",\"original_title\":\"अंधाधुन\",\"overview\":\"A series of mysterious events changes the life of a blind pianist who now must report a crime that was actually never witnessed by him.\",\"popularity\":14.464,\"poster_path\":\"/dy3K6hNvwE05siGgiLJcEiwgpdO.jpg\",\"release_date\":\"2018-10-05\",\"title\":\"Andhadhun\",\"video\":false,\"vote_average\":7.644,\"vote_count\":414}],\"total_pages\":1,\"total_results\":1}\n",
      "https://api.themoviedb.org/3/search/movie?query=Andhadhun&api_key=2faad79f82342aee18ec0d49fd12a48c\n"
     ]
    }
   ],
   "source": [
    "response = requests.get('https://api.themoviedb.org/3/search/movie', params = {'query':\"Andhadhun\" , 'api_key':'2faad79f82342aee18ec0d49fd12a48c'})\n",
    "print(response.status_code)\n",
    "print(response.text)\n",
    "print(response.url)"
   ]
  },
  {
   "cell_type": "code",
   "execution_count": 15,
   "id": "5d34695c",
   "metadata": {},
   "outputs": [
    {
     "name": "stdout",
     "output_type": "stream",
     "text": [
      "534780\n"
     ]
    }
   ],
   "source": [
    "data = response.json()\n",
    "ID = data['results'][0]['id']\n",
    "print(ID)"
   ]
  },
  {
   "cell_type": "markdown",
   "id": "afa05716",
   "metadata": {},
   "source": [
    "### Question 2 - Fetch the company id company 'Marvel Studios' using TMDb. Print the id."
   ]
  },
  {
   "cell_type": "code",
   "execution_count": 17,
   "id": "9de23aa6",
   "metadata": {},
   "outputs": [
    {
     "name": "stdout",
     "output_type": "stream",
     "text": [
      "200\n",
      "https://api.themoviedb.org/3/search/company?query=Marvel+Studios&api_key=2faad79f82342aee18ec0d49fd12a48c\n"
     ]
    }
   ],
   "source": [
    "response = requests.get('https://api.themoviedb.org/3/search/company', params = {'query':'Marvel Studios', 'api_key':'2faad79f82342aee18ec0d49fd12a48c'})\n",
    "print(response.status_code)\n",
    "print(response.url)"
   ]
  },
  {
   "cell_type": "code",
   "execution_count": 18,
   "id": "99bfade9",
   "metadata": {},
   "outputs": [
    {
     "name": "stdout",
     "output_type": "stream",
     "text": [
      "420\n"
     ]
    }
   ],
   "source": [
    "data1 = response.json()\n",
    "ID = data1['results'][0]['id']\n",
    "print(ID)"
   ]
  },
  {
   "cell_type": "markdown",
   "id": "d12d6c75",
   "metadata": {},
   "source": [
    "### Question 3 - Find the vote count and vote average of the movie \"3 Idiots\" using the TMDb API"
   ]
  },
  {
   "cell_type": "code",
   "execution_count": 26,
   "id": "d8cdcd48",
   "metadata": {},
   "outputs": [
    {
     "name": "stdout",
     "output_type": "stream",
     "text": [
      "https://api.themoviedb.org/3/search/movie?query=3+Idiots&api_key=2faad79f82342aee18ec0d49fd12a48c\n"
     ]
    }
   ],
   "source": [
    "response = requests.get('https://api.themoviedb.org/3/search/movie',params = {'query':'3 Idiots','api_key':'2faad79f82342aee18ec0d49fd12a48c'})\n",
    "print(response.url)"
   ]
  },
  {
   "cell_type": "code",
   "execution_count": 27,
   "id": "6ee376f2",
   "metadata": {},
   "outputs": [
    {
     "name": "stdout",
     "output_type": "stream",
     "text": [
      "{'page': 1, 'results': [{'adult': False, 'backdrop_path': '/u7kuUaySqXBVAtqEl9vkTkAzHV9.jpg', 'genre_ids': [18, 35], 'id': 20453, 'original_language': 'hi', 'original_title': '3 Idiots', 'overview': 'Rascal. Joker. Dreamer. Genius... You\\'ve never met a college student quite like \"Rancho.\" From the moment he arrives at India\\'s most prestigious university, Rancho\\'s outlandish schemes turn the campus upside down—along with the lives of his two newfound best friends. Together, they make life miserable for \"Virus,\" the school’s uptight and heartless dean. But when Rancho catches the eye of the dean\\'s sexy daughter, Virus sets his sights on flunking out the \"3 idiots\" once and for all.', 'popularity': 26.123, 'poster_path': '/66A9MqXOyVFCssoloscw79z8Tew.jpg', 'release_date': '2009-12-23', 'title': '3 Idiots', 'video': False, 'vote_average': 7.987, 'vote_count': 2102}], 'total_pages': 1, 'total_results': 1}\n"
     ]
    }
   ],
   "source": [
    "data = response.json()\n",
    "print(data)"
   ]
  },
  {
   "cell_type": "code",
   "execution_count": 29,
   "id": "8bd1bdf6",
   "metadata": {
    "scrolled": true
   },
   "outputs": [
    {
     "name": "stdout",
     "output_type": "stream",
     "text": [
      "7.987\n",
      "2102\n"
     ]
    }
   ],
   "source": [
    "vote = data['results'][0]\n",
    "print(vote['vote_average'])\n",
    "print(vote['vote_count'])"
   ]
  },
  {
   "cell_type": "markdown",
   "id": "bffaca82",
   "metadata": {},
   "source": [
    "### Question 3 - Fetch the names of top 5 similar movies to 'Inception' from the TMDb API."
   ]
  },
  {
   "cell_type": "code",
   "execution_count": 88,
   "id": "b4254085",
   "metadata": {
    "scrolled": true
   },
   "outputs": [
    {
     "name": "stdout",
     "output_type": "stream",
     "text": [
      "https://api.themoviedb.org/3/search/movie?query=Inception&api_key=2faad79f82342aee18ec0d49fd12a48c\n"
     ]
    }
   ],
   "source": [
    "# Movie_ID - 27205\n",
    "response = requests.get('https://api.themoviedb.org/3/search/movie', params = {'query':'Inception', 'api_key':'2faad79f82342aee18ec0d49fd12a48c'})\n",
    "print(response.url)"
   ]
  },
  {
   "cell_type": "code",
   "execution_count": 89,
   "id": "23a6361f",
   "metadata": {},
   "outputs": [
    {
     "name": "stdout",
     "output_type": "stream",
     "text": [
      "https://api.themoviedb.org/3/search/movie?query=Inception&api_key=2faad79f82342aee18ec0d49fd12a48c\n"
     ]
    }
   ],
   "source": [
    "response2 = requests.get('https://api.themoviedb.org/3/movie/27205/similar', params = {'api_key':'2faad79f82342aee18ec0d49fd12a48c'})\n",
    "print(response.url)\n"
   ]
  },
  {
   "cell_type": "code",
   "execution_count": 90,
   "id": "dfbe06e4",
   "metadata": {},
   "outputs": [
    {
     "name": "stdout",
     "output_type": "stream",
     "text": [
      "Inception\n",
      "The Crack: Inception\n",
      "Inception: The Cobol Job\n",
      "The Inception of Dramatic Representation\n",
      "Inception: Music from the Motion Picture\n"
     ]
    }
   ],
   "source": [
    "data2 = response.json()\n",
    "\n",
    "movies = data2['results']\n",
    "count = 0\n",
    "for i in movies:\n",
    "    if count < 5:\n",
    "        print(i['title'])\n",
    "        \n",
    "    count = count + 1    "
   ]
  },
  {
   "cell_type": "markdown",
   "id": "eb77f8df",
   "metadata": {},
   "source": [
    "### Question 4 - Fetch the top rated english movies in the US region using the TMDb API. From the result, print the first 10 movies which have original language as english. Also print their genres."
   ]
  },
  {
   "cell_type": "code",
   "execution_count": 73,
   "id": "ac0b3e5c",
   "metadata": {},
   "outputs": [
    {
     "data": {
      "text/plain": [
       "{'The Godfather': [18, 80],\n",
       " 'The Shawshank Redemption': [18, 80],\n",
       " 'The Godfather Part II': [18, 80],\n",
       " \"Schindler's List\": [18, 36, 10752],\n",
       " '12 Angry Men': [18],\n",
       " 'Spider-Man: Across the Spider-Verse': [28, 12, 16, 878],\n",
       " 'The Green Mile': [14, 18, 80],\n",
       " 'The Dark Knight': [18, 28, 80, 53],\n",
       " 'Pulp Fiction': [53, 80],\n",
       " 'Forrest Gump': [35, 18, 10749],\n",
       " 'The Lord of the Rings: The Return of the King': [12, 14, 28],\n",
       " 'Primal: Tales of Savagery': [28, 12, 16, 18],\n",
       " 'GoodFellas': [18, 80]}"
      ]
     },
     "execution_count": 73,
     "metadata": {},
     "output_type": "execute_result"
    }
   ],
   "source": [
    "response = requests.get('https://api.themoviedb.org/3/movie/top_rated',params = {'query':'en-US','api_key':'2faad79f82342aee18ec0d49fd12a48c'})\n",
    "data1 = response.json()\n",
    "movies = data1['results']\n",
    "dict1 = {}\n",
    "for i in movies:\n",
    "    if i['original_language'] == \"en\":\n",
    "        key = i['title']\n",
    "        value = i['genre_ids']\n",
    "        dict1[key] = value\n",
    "#print(response.url)\n",
    "\n",
    "dict1"
   ]
  },
  {
   "cell_type": "code",
   "execution_count": 74,
   "id": "de8ba4a4",
   "metadata": {},
   "outputs": [
    {
     "name": "stdout",
     "output_type": "stream",
     "text": [
      "{28: 'Action', 12: 'Adventure', 16: 'Animation', 35: 'Comedy', 80: 'Crime', 99: 'Documentary', 18: 'Drama', 10751: 'Family', 14: 'Fantasy', 36: 'History', 27: 'Horror', 10402: 'Music', 9648: 'Mystery', 10749: 'Romance', 878: 'Science Fiction', 10770: 'TV Movie', 53: 'Thriller', 10752: 'War', 37: 'Western'}\n"
     ]
    }
   ],
   "source": [
    "response2 = requests.get('https://api.themoviedb.org/3/genre/movie/list', params = {'query':'en','api_key':'2faad79f82342aee18ec0d49fd12a48c'})\n",
    "data2 = response2.json()\n",
    "genre = data2['genres']\n",
    "#print(response2.url)\n",
    "#print(genre)\n",
    "#for i in genre:\n",
    "    #print(i['id'], \" \",i['name'])\n",
    "    \n",
    "dict2 = {}\n",
    "for i in genre:\n",
    "    key = i['id']\n",
    "    value = i['name']\n",
    "    dict2[key] = value\n",
    "    \n",
    "print(dict2)    \n",
    "    \n",
    "    "
   ]
  },
  {
   "cell_type": "code",
   "execution_count": 75,
   "id": "e1993678",
   "metadata": {
    "scrolled": true
   },
   "outputs": [
    {
     "name": "stdout",
     "output_type": "stream",
     "text": [
      "The Godfather - Drama, Crime, \n",
      "The Shawshank Redemption - Drama, Crime, \n",
      "The Godfather Part II - Drama, Crime, \n",
      "Schindler's List - Drama, History, War, \n",
      "12 Angry Men - Drama, \n",
      "Spider-Man: Across the Spider-Verse - Action, Adventure, Animation, Science Fiction, \n",
      "The Green Mile - Fantasy, Drama, Crime, \n",
      "The Dark Knight - Drama, Action, Crime, Thriller, \n",
      "Pulp Fiction - Thriller, Crime, \n",
      "Forrest Gump - Comedy, Drama, Romance, \n"
     ]
    }
   ],
   "source": [
    "count = 0\n",
    "for i in dict1:\n",
    "    if count == 10:\n",
    "        break\n",
    "        \n",
    "    count = count + 1\n",
    "    genre_list = dict1[i]\n",
    "    print(i,\"-\", end = \" \")\n",
    "    for j in genre_list:\n",
    "        if j in dict2:\n",
    "            print(dict2[j], end = \", \")\n",
    "            \n",
    "    print()        \n",
    "    "
   ]
  },
  {
   "cell_type": "markdown",
   "id": "52ec1749",
   "metadata": {},
   "source": [
    "### Question 5 - Find the name and birthplace of the present most popular person according to TMDb API."
   ]
  },
  {
   "cell_type": "code",
   "execution_count": 5,
   "id": "4bc931f1",
   "metadata": {},
   "outputs": [
    {
     "name": "stdout",
     "output_type": "stream",
     "text": [
      "https://api.themoviedb.org/3/person/popular?api_key=2faad79f82342aee18ec0d49fd12a48c\n"
     ]
    }
   ],
   "source": [
    "response = requests.get('https://api.themoviedb.org/3/person/popular', params = {'api_key':'2faad79f82342aee18ec0d49fd12a48c'})\n",
    "print(response.url)\n",
    "#\"id\": 75341\n"
   ]
  },
  {
   "cell_type": "code",
   "execution_count": 6,
   "id": "5baa2bb6",
   "metadata": {},
   "outputs": [
    {
     "name": "stdout",
     "output_type": "stream",
     "text": [
      "https://api.themoviedb.org/3/person/75341?api_key=2faad79f82342aee18ec0d49fd12a48c\n"
     ]
    }
   ],
   "source": [
    "response2 = requests.get('https://api.themoviedb.org/3/person/75341',params = {'api_key':'2faad79f82342aee18ec0d49fd12a48c'})\n",
    "print(response2.url)"
   ]
  },
  {
   "cell_type": "code",
   "execution_count": 7,
   "id": "a01f6a01",
   "metadata": {
    "scrolled": true
   },
   "outputs": [
    {
     "name": "stdout",
     "output_type": "stream",
     "text": [
      "75341\n",
      "Gary Coleman   Zion, Illinois, USA\n"
     ]
    }
   ],
   "source": [
    "data = response2.json()\n",
    "print(\"75341\")\n",
    "print(data['name'],\" \", data['place_of_birth'])\n",
    "#print(data)"
   ]
  },
  {
   "cell_type": "markdown",
   "id": "505fad30",
   "metadata": {},
   "source": [
    "### Question 2.2 - Fetch the Instagram and Twitter handle of Indian Actress \"Alia Bhatt\" from the TMDb API.\n",
    " "
   ]
  },
  {
   "cell_type": "code",
   "execution_count": 1,
   "id": "e1f7f1db",
   "metadata": {},
   "outputs": [],
   "source": [
    "import requests"
   ]
  },
  {
   "cell_type": "code",
   "execution_count": 3,
   "id": "40c9f644",
   "metadata": {},
   "outputs": [
    {
     "name": "stdout",
     "output_type": "stream",
     "text": [
      "https://api.themoviedb.org/3/search/person?query=Alia+Bhatt&api_key=2faad79f82342aee18ec0d49fd12a48c\n"
     ]
    }
   ],
   "source": [
    "response = requests.get('https://api.themoviedb.org/3/search/person', params = {'query':'Alia Bhatt','api_key':'2faad79f82342aee18ec0d49fd12a48c'})\n",
    "\n",
    "print(response.url)\n",
    "#\"id\": 1108120"
   ]
  },
  {
   "cell_type": "code",
   "execution_count": 13,
   "id": "fccd5488",
   "metadata": {},
   "outputs": [],
   "source": [
    "response2 = requests.get('https://api.themoviedb.org/3/person/1108120/external_ids',params = {'api_key':'2faad79f82342aee18ec0d49fd12a48c'})"
   ]
  },
  {
   "cell_type": "code",
   "execution_count": 14,
   "id": "2d33ff62",
   "metadata": {},
   "outputs": [
    {
     "name": "stdout",
     "output_type": "stream",
     "text": [
      "https://api.themoviedb.org/3/person/1108120/external_ids?api_key=2faad79f82342aee18ec0d49fd12a48c\n"
     ]
    }
   ],
   "source": [
    "print(response2.url)"
   ]
  },
  {
   "cell_type": "code",
   "execution_count": 15,
   "id": "77b151e4",
   "metadata": {
    "scrolled": true
   },
   "outputs": [
    {
     "name": "stdout",
     "output_type": "stream",
     "text": [
      "aliaabhatt   Aliaa08\n"
     ]
    }
   ],
   "source": [
    "data = response2.json()\n",
    "print(data[\"instagram_id\"],\" \",data[\"twitter_id\"])"
   ]
  },
  {
   "cell_type": "markdown",
   "id": "e443e78c",
   "metadata": {},
   "source": [
    "### Question 2.3 - Fetch the names of the character played by Tom Cruise in the movies:"
   ]
  },
  {
   "cell_type": "code",
   "execution_count": 18,
   "id": "c259a040",
   "metadata": {
    "scrolled": true
   },
   "outputs": [
    {
     "name": "stdout",
     "output_type": "stream",
     "text": [
      "https://api.themoviedb.org/3/search/person?query=Tom+Cruise&api_key=2faad79f82342aee18ec0d49fd12a48c\n"
     ]
    }
   ],
   "source": [
    "response = requests.get('https://api.themoviedb.org/3/search/person', params = {'query':'Tom Cruise','api_key':'2faad79f82342aee18ec0d49fd12a48c'})\n",
    "print(response.url)"
   ]
  },
  {
   "cell_type": "code",
   "execution_count": 19,
   "id": "a08f63e7",
   "metadata": {},
   "outputs": [
    {
     "name": "stdout",
     "output_type": "stream",
     "text": [
      "https://api.themoviedb.org/3/person/500?api_key=2faad79f82342aee18ec0d49fd12a48c\n"
     ]
    }
   ],
   "source": [
    "response2 = requests.get('https://api.themoviedb.org/3/person/500', params = {'api_key':'2faad79f82342aee18ec0d49fd12a48c'})\n",
    "print(response2.url)"
   ]
  },
  {
   "cell_type": "code",
   "execution_count": 21,
   "id": "6be9c32f",
   "metadata": {},
   "outputs": [
    {
     "name": "stdout",
     "output_type": "stream",
     "text": [
      "https://api.themoviedb.org/3/person/500/movie_credits?api_key=2faad79f82342aee18ec0d49fd12a48c\n"
     ]
    }
   ],
   "source": [
    "response3 = requests.get('https://api.themoviedb.org/3/person/500/movie_credits', params = {'api_key':'2faad79f82342aee18ec0d49fd12a48c'})\n",
    "print(response3.url)"
   ]
  },
  {
   "cell_type": "code",
   "execution_count": null,
   "id": "caffca5b",
   "metadata": {},
   "outputs": [],
   "source": [
    "data = response3.json()\n",
    "list1 = ['Top Gun','Mission: Impossible - Fallout','Minority Report','Edge of Tomorrow']\n",
    "movies = data['cast']\n",
    "movies"
   ]
  },
  {
   "cell_type": "code",
   "execution_count": 28,
   "id": "b742c437",
   "metadata": {},
   "outputs": [
    {
     "name": "stdout",
     "output_type": "stream",
     "text": [
      "{'War of the Worlds': 'Ray Ferrier', 'Minority Report': 'Chief John Anderton', 'Eyes Wide Shut': 'Dr. William Harford', 'The Last Samurai': 'Nathan Algren', 'Top Gun': \"Lt. Pete 'Maverick' Mitchell\", 'Interview with the Vampire': 'Lestat', 'Mission: Impossible III': 'Ethan Hunt', 'A Few Good Men': 'Lt. Daniel Kaffee', 'Mission: Impossible': 'Ethan Hunt', 'Mission: Impossible II': 'Ethan Hunt', 'Collateral': 'Vincent', 'Vanilla Sky': 'David Aames', 'Days of Thunder': 'Cole Trickle', 'Valkyrie': 'Claus Schenk Graf von Stauffenberg', 'Born on the Fourth of July': 'Ron Kovic', 'Stanley Kubrick: A Life in Pictures': 'Self - Narrator', 'Far and Away': 'Joseph Donnelly', 'Cocktail': 'Brian Flanagan', 'Legend': 'Jack', 'Risky Business': 'Joel Goodson', 'Jerry Maguire': 'Jerry Maguire', \"Losin' It\": 'Woody', 'The Firm': 'Mitch McDeere', 'Knight and Day': 'Roy Miller', 'All the Right Moves': 'Stefen Djordjevic', 'Space Station 3D': 'Narrator', 'Industrial Light & Magic: Creating the Impossible': 'Narrator (voice)', 'Mission: Impossible - Ghost Protocol': 'Ethan Hunt', 'Oblivion': 'Jack', 'Jack Reacher': 'Jack Reacher', 'The Mummy': 'Nick Morton', 'Mission: Impossible - Rogue Nation': 'Ethan Hunt', 'Edge of Tomorrow': \"Maj. William 'Bill' Cage\", 'American Made': 'Barry Seal', 'Jack Reacher: Never Go Back': 'Jack Reacher', 'Mission: Impossible - Fallout': 'Ethan Hunt', 'Together: The Hendrick Motorsports Story': 'Narrator', 'Mission: Impossible - Dead Reckoning Part Two': 'Ethan Hunt', 'Mission: Impossible - Dead Reckoning Part One': 'Ethan Hunt', \"Special Delivery: Michael Mann on Making 'Collateral'\": 'Self', 'Cruise on Kubrick': '', \"James Corden's Top Gun Training with Tom Cruise\": 'Self', 'Top Gun: Maverick': \"Capt. Pete 'Maverick' Mitchell\", 'Luna Park': '', 'Untitled Tom Cruise and Christopher McQuarrie Musical': '', 'Untitled Tom Cruise and Christopher McQuarrie Action Film': '', 'Untitled Les Grossmann Project': 'Les Grossmann', 'Danger Zone: The Making of Top Gun': 'Self', 'On Your Six: Thirty Years of Top Gun': 'Self', 'Remembering Stanley Kubrick': 'Self', 'Tom Cruise: The Last Movie Star': 'Self (archive footage)', 'Rain Man': 'Charlie Babbitt', 'Lions for Lambs': 'Senator Jasper Irving', 'The Color of Money': 'Vincent Lauria', 'Winning: The Racing Life of Paul Newman': 'Self', \"The Last Movie: Stanley Kubrick and 'Eyes Wide Shut'\": 'Self', \"City of Night: The Making of 'Collateral'\": 'Self', 'Hitting It Hard': '', 'Tom Cruise: An Eternal Youth': 'Self (archive footage)', 'Mission: Improbable': 'Self', 'Jack Reacher: When the Man Comes Around': 'Self', 'The Last Last Late Late Show': 'Self - Guest', \"Behind the Fallout: The Making of 'M:I-6'\": 'Self', 'Rock of Ages': 'Stacee Jaxx', 'Time Out: The Truth About HIV, AIDS and You': 'Self', 'Tropic Thunder': 'Les Grossmann', 'Valkyrie: The Plot to Kill Hitler': 'Self', 'Taps': 'Cadet Captain David Shawn', 'Kubrick by Kubrick': 'Self (archive footage)', 'The Golden Hour: Making of Days of Thunder': 'Self (archive footage)', 'Junket Whore': 'Self', 'Going Clear: Scientology and the Prison of Belief': 'Self (archive footage)', 'The Art of Action: Martial Arts in the Movies': 'Self', \"Donald Trump Is President and You're Not: A Portrait of Donald J. Trump\": 'Self (archival footage)', 'The Outsiders': 'Steve Randle', 'The Dream is Always the Same: The Story of Risky Business': '', 'My Scientology Movie': 'Self (archive footage)', 'Scientologists at War': 'Self (archive footage)', 'Close Up': 'Self (archive footage)', 'America: A Tribute to Heroes': 'Self', 'Diana: The Day Britain Cried': 'Self (archive footage)', 'Val': 'Self (archive footage)', \"MTV's 10th Anniversary Special\": 'Self', 'Magnolia': 'Frank T.J. Mackey', 'Final Cut: Ladies and Gentlemen': '(archive footage)', 'Endless Love': 'Billy', 'Religulous': 'Self (archive footage)', 'Austin Powers in Goldmember': \"Tom Cruise / Famous Austin ('Austinpussy')\", 'Paul McCartney: Back in the U.S.': 'Self', 'Ségo et Sarko sont dans un bateau...': 'Self (archive footage)', 'Young Guns': 'Henchman Shot off of Roof (uncredited)', 'The Coronation Concert': 'Self', 'Spielberg': 'Self', 'And the Oscar Goes To...': 'Self (archive footage)', 'Never Sleep Again: The Elm Street Legacy': 'Self (archive footage)', 'Waking Sleeping Beauty': 'Vincent Lauria (archive footage)'}\n"
     ]
    }
   ],
   "source": [
    "p = 0\n",
    "dict1 = {}\n",
    "for i in movies:\n",
    "    key = i['title']\n",
    "    value = i['character']\n",
    "    dict1[key] = value\n",
    "    \n",
    "print(dict1)\n",
    "    "
   ]
  },
  {
   "cell_type": "code",
   "execution_count": 29,
   "id": "bcc2f780",
   "metadata": {
    "scrolled": true
   },
   "outputs": [
    {
     "name": "stdout",
     "output_type": "stream",
     "text": [
      "Lt. Pete 'Maverick' Mitchell\n",
      "Ethan Hunt\n",
      "Chief John Anderton\n",
      "Maj. William 'Bill' Cage\n"
     ]
    }
   ],
   "source": [
    "for i in range(len(list1)):\n",
    "    if list1[i] in dict1:\n",
    "        print(dict1[list1[i]])\n",
    "        "
   ]
  },
  {
   "cell_type": "markdown",
   "id": "b9fb9f56",
   "metadata": {},
   "source": [
    "### Question 2.4 - Did James McAvoy play a role in the movie Deadpool 2. Print Yes or No."
   ]
  },
  {
   "cell_type": "code",
   "execution_count": 30,
   "id": "66a83d70",
   "metadata": {
    "scrolled": true
   },
   "outputs": [
    {
     "name": "stdout",
     "output_type": "stream",
     "text": [
      "https://api.themoviedb.org/3/search/movie?query=Deadpool+2&api_key=2faad79f82342aee18ec0d49fd12a48c\n"
     ]
    }
   ],
   "source": [
    "response = requests.get('https://api.themoviedb.org/3/search/movie', params = {'query':'Deadpool 2','api_key':'2faad79f82342aee18ec0d49fd12a48c'})\n",
    "print(response.url)\n",
    "#\"id\": 383498"
   ]
  },
  {
   "cell_type": "code",
   "execution_count": 32,
   "id": "c31f5ecc",
   "metadata": {
    "scrolled": true
   },
   "outputs": [
    {
     "name": "stdout",
     "output_type": "stream",
     "text": [
      "https://api.themoviedb.org/3/search/person?query=James+McAvoy&api_key=2faad79f82342aee18ec0d49fd12a48c\n"
     ]
    }
   ],
   "source": [
    "response2 = requests.get('https://api.themoviedb.org/3/search/person', params = {'query':'James McAvoy','api_key':'2faad79f82342aee18ec0d49fd12a48c'})\n",
    "print(response2.url)\n",
    "#\"id\": 5530 --> James McAvoy"
   ]
  },
  {
   "cell_type": "code",
   "execution_count": 33,
   "id": "587d6562",
   "metadata": {
    "scrolled": true
   },
   "outputs": [
    {
     "name": "stdout",
     "output_type": "stream",
     "text": [
      "https://api.themoviedb.org/3/person/5530/movie_credits?api_key=2faad79f82342aee18ec0d49fd12a48c\n"
     ]
    }
   ],
   "source": [
    "response3 = requests.get('https://api.themoviedb.org/3/person/5530/movie_credits', params = {'api_key':'2faad79f82342aee18ec0d49fd12a48c'})\n",
    "print(response3.url)\n",
    "# the link contained Deadpool 2 so the actor was present in movie"
   ]
  },
  {
   "cell_type": "markdown",
   "id": "1fbba521",
   "metadata": {},
   "source": [
    "### Question 3.1 - Fetch the overview of the TV Show \"FRIENDS\" using TMDb API."
   ]
  },
  {
   "cell_type": "code",
   "execution_count": 65,
   "id": "ccb023e7",
   "metadata": {},
   "outputs": [
    {
     "name": "stdout",
     "output_type": "stream",
     "text": [
      "https://api.themoviedb.org/3/search/tv?query=FRIENDS&api_key=2faad79f82342aee18ec0d49fd12a48c\n"
     ]
    }
   ],
   "source": [
    "response = requests.get('https://api.themoviedb.org/3/search/tv', params = {'query':'FRIENDS','api_key':'2faad79f82342aee18ec0d49fd12a48c'})\n",
    "print(response.url)"
   ]
  },
  {
   "cell_type": "code",
   "execution_count": 66,
   "id": "145becfe",
   "metadata": {},
   "outputs": [
    {
     "name": "stdout",
     "output_type": "stream",
     "text": [
      "Six young people from New York City, on their own and struggling to survive in the real world, find the companionship, comfort and support they get from each other to be the perfect antidote to the pressures of life.\n",
      "Friends is a short-lived kids-oriented drama that aired in the spring of 1979. The series, which was produced by Aaron Spelling and aired on ABC, starred Charlie Aiken, Jill Whelan, and Jarrod Johnson as three Southern Californian 11-year-olds. Karen Morrow also appeared. Only five one-hour episodes were produced before the series was cancelled.\n",
      "\n"
     ]
    }
   ],
   "source": [
    "data = response.json()\n",
    "overview = data['results']\n",
    "for i in overview:\n",
    "    if i[\"name\"] == 'Friends':\n",
    "        print(i['overview'])\n",
    "#print(overview)"
   ]
  },
  {
   "cell_type": "markdown",
   "id": "980a16ec",
   "metadata": {},
   "source": [
    "### Question 3.2 - Fetch the name and air date of S06E05 of the TV Show 'The Big Bang Theory' from TMDb API."
   ]
  },
  {
   "cell_type": "code",
   "execution_count": 41,
   "id": "dbe05f27",
   "metadata": {},
   "outputs": [
    {
     "name": "stdout",
     "output_type": "stream",
     "text": [
      "https://api.themoviedb.org/3/search/tv?query=The+Big+Bang+Theory&api_key=2faad79f82342aee18ec0d49fd12a48c\n"
     ]
    }
   ],
   "source": [
    "response = requests.get('https://api.themoviedb.org/3/search/tv', params = {'query':'The Big Bang Theory','api_key':'2faad79f82342aee18ec0d49fd12a48c'})\n",
    "print(response.url)\n",
    "#\"id\": 1418"
   ]
  },
  {
   "cell_type": "code",
   "execution_count": 42,
   "id": "4d2d72ef",
   "metadata": {},
   "outputs": [
    {
     "name": "stdout",
     "output_type": "stream",
     "text": [
      "https://api.themoviedb.org/3/tv/1418?api_key=2faad79f82342aee18ec0d49fd12a48c\n"
     ]
    }
   ],
   "source": [
    "response2 = requests.get('https://api.themoviedb.org/3/tv/1418', params = {'api_key':'2faad79f82342aee18ec0d49fd12a48c'})\n",
    "print(response2.url)"
   ]
  },
  {
   "cell_type": "code",
   "execution_count": 43,
   "id": "66701efc",
   "metadata": {},
   "outputs": [
    {
     "name": "stdout",
     "output_type": "stream",
     "text": [
      "https://api.themoviedb.org/3/tv/1418/season/6/episode/5?api_key=2faad79f82342aee18ec0d49fd12a48c\n"
     ]
    }
   ],
   "source": [
    "response3 = requests.get('https://api.themoviedb.org/3/tv/1418/season/6/episode/5', params = {'api_key':'2faad79f82342aee18ec0d49fd12a48c'})\n",
    "print(response3.url)\n",
    "                         "
   ]
  },
  {
   "cell_type": "code",
   "execution_count": 46,
   "id": "2ae63f90",
   "metadata": {
    "scrolled": true
   },
   "outputs": [
    {
     "name": "stdout",
     "output_type": "stream",
     "text": [
      "The Holographic Excitation - 2012-10-25\n"
     ]
    }
   ],
   "source": [
    "data = response3.json()\n",
    "\n",
    "print(data['name'],\"-\",data['air_date'])"
   ]
  },
  {
   "cell_type": "markdown",
   "id": "87a0c65f",
   "metadata": {},
   "source": [
    "### Question 3.3 - Fetch the trending TV Shows for the week from the TMDb API and print the taglines of the top 5 shows. If there is no tagline, print 'Empty' instead"
   ]
  },
  {
   "cell_type": "code",
   "execution_count": 75,
   "id": "2d3b01d1",
   "metadata": {
    "scrolled": true
   },
   "outputs": [
    {
     "name": "stdout",
     "output_type": "stream",
     "text": [
      "https://api.themoviedb.org/3/trending/tv/week?api_key=2faad79f82342aee18ec0d49fd12a48c\n"
     ]
    }
   ],
   "source": [
    "response = requests.get('https://api.themoviedb.org/3/trending/tv/week', params = {'api_key':'2faad79f82342aee18ec0d49fd12a48c'})\n",
    "print(response.url)"
   ]
  },
  {
   "cell_type": "code",
   "execution_count": 78,
   "id": "a70640d6",
   "metadata": {},
   "outputs": [
    {
     "data": {
      "text/plain": [
       "[114472, 71912, 125988, 95479, 198102]"
      ]
     },
     "execution_count": 78,
     "metadata": {},
     "output_type": "execute_result"
    }
   ],
   "source": [
    "list1 = []\n",
    "IDS = response.json()\n",
    "data = IDS['results']\n",
    "count = 0\n",
    "for i in data:\n",
    "    if count < 5:\n",
    "        list1.append(i['id'])\n",
    "        \n",
    "    count = count + 1\n",
    "\n",
    "list1    "
   ]
  },
  {
   "cell_type": "code",
   "execution_count": 80,
   "id": "0ef59a6b",
   "metadata": {
    "scrolled": true
   },
   "outputs": [
    {
     "name": "stdout",
     "output_type": "stream",
     "text": [
      "Who do you trust?\n",
      "Destiny is a beast.\n",
      "The truth will surface.\n",
      "A boy fights... for \"the right death.\"\n",
      "Let them think they're in control.\n"
     ]
    }
   ],
   "source": [
    "api_key = '2faad79f82342aee18ec0d49fd12a48c'\n",
    "\n",
    "for j in list1:\n",
    "    response2 = requests.get('https://api.themoviedb.org/3/tv/'+str(j), params = {'api_key':api_key})\n",
    "    python_data = response2.json()\n",
    "    tag = python_data['tagline']\n",
    "    if tag == \"\":\n",
    "        print('empty')\n",
    "    else:\n",
    "        print(tag)\n",
    "#print(response2.url)"
   ]
  },
  {
   "cell_type": "markdown",
   "id": "c78eda76",
   "metadata": {},
   "source": [
    "### Question 3.4 - Print the names of all the TV shows to be aired today whose original language is english."
   ]
  },
  {
   "cell_type": "code",
   "execution_count": 91,
   "id": "6e9a93cc",
   "metadata": {},
   "outputs": [
    {
     "name": "stdout",
     "output_type": "stream",
     "text": [
      "https://api.themoviedb.org/3/tv/airing_today?api_key=2faad79f82342aee18ec0d49fd12a48c\n"
     ]
    }
   ],
   "source": [
    "response = requests.get('https://api.themoviedb.org/3/tv/airing_today', params = {'api_key':'2faad79f82342aee18ec0d49fd12a48c'})\n",
    "print(response.url)"
   ]
  },
  {
   "cell_type": "code",
   "execution_count": 94,
   "id": "b8c8ff13",
   "metadata": {},
   "outputs": [
    {
     "name": "stdout",
     "output_type": "stream",
     "text": [
      "Do Dil Mil Rahe Hai\n",
      "Love Island\n",
      "Naked News\n"
     ]
    },
    {
     "data": {
      "text/plain": [
       "8"
      ]
     },
     "execution_count": 94,
     "metadata": {},
     "output_type": "execute_result"
    }
   ],
   "source": [
    "data = response.json()\n",
    "\n",
    "show = data['results']\n",
    "\n",
    "for i in show:\n",
    "    if i[\"original_language\"] == \"en\":\n",
    "        print(i['name'])\n",
    "        \n",
    "total_pages = data[\"total_pages\"]\n",
    "\n"
   ]
  },
  {
   "cell_type": "code",
   "execution_count": 98,
   "id": "6fffb7d3",
   "metadata": {},
   "outputs": [
    {
     "name": "stdout",
     "output_type": "stream",
     "text": [
      "Do Dil Mil Rahe Hai\n",
      "Love Island\n",
      "Naked News\n",
      "We Baby Bears\n",
      "On Patrol: Live\n",
      "The Kitchen\n",
      "Hamster & Gretel\n",
      "On Patrol: First Shift\n",
      "Kiff\n",
      "Dino Ranch\n",
      "The SmackDown LowDown\n",
      "Symon's Dinners Cooking Out\n",
      "The SmackDown LowDown\n",
      "V.C. Andrews' Dawn\n",
      "All Elite Wrestling: Collision\n",
      "Concordia\n",
      "V.C. Andrews' Dawn\n",
      "All Elite Wrestling: Collision\n",
      "Concordia\n",
      "PJ Masks: Power Heroes\n",
      "Japan's Top Inventions\n",
      "Act Your Age\n",
      "Chibi Tiny Tales\n",
      "V.C. Andrews' Dawn\n",
      "All Elite Wrestling: Collision\n",
      "Solid Archery Mechanics\n",
      "Combate Global\n",
      "The Devil in Silver\n",
      "Saturday Kitchen\n",
      "Ted's Notebook\n",
      "Lost Beasts\n",
      "“プリンセス プリンセス”ライヴ・フィルム『The Last Live』\n"
     ]
    }
   ],
   "source": [
    "for i in range(1,total_pages+1):\n",
    "    response = requests.get('https://api.themoviedb.org/3/tv/airing_today', params = {'page':str(i),'api_key':'2faad79f82342aee18ec0d49fd12a48c'})\n",
    "    \n",
    "    data = response.json()\n",
    "\n",
    "    show = data['results']\n",
    "\n",
    "    for i in show:\n",
    "        if i[\"original_language\"] == \"en\":\n",
    "            print(i['name'])\n",
    "    "
   ]
  },
  {
   "cell_type": "markdown",
   "id": "dca44c40",
   "metadata": {},
   "source": [
    "### Question 3.5 - Count the number of males and females in the cast of \"Money Heist\" using the TMDb API."
   ]
  },
  {
   "cell_type": "code",
   "execution_count": 99,
   "id": "d858ff44",
   "metadata": {},
   "outputs": [
    {
     "name": "stdout",
     "output_type": "stream",
     "text": [
      "https://api.themoviedb.org/3/search/tv?query=Money+Heist&api_key=2faad79f82342aee18ec0d49fd12a48c\n"
     ]
    }
   ],
   "source": [
    "response = requests.get('https://api.themoviedb.org/3/search/tv', params = {'query':'Money Heist','api_key':'2faad79f82342aee18ec0d49fd12a48c'})\n",
    "print(response.url)\n",
    "#\"id\": 71446"
   ]
  },
  {
   "cell_type": "code",
   "execution_count": 100,
   "id": "5e021d7b",
   "metadata": {
    "scrolled": true
   },
   "outputs": [
    {
     "name": "stdout",
     "output_type": "stream",
     "text": [
      "https://api.themoviedb.org/3/tv/71446?api_key=2faad79f82342aee18ec0d49fd12a48c\n"
     ]
    }
   ],
   "source": [
    "response2 = requests.get('https://api.themoviedb.org/3/tv/71446', params = {'api_key':'2faad79f82342aee18ec0d49fd12a48c'})\n",
    "print(response2.url)"
   ]
  },
  {
   "cell_type": "code",
   "execution_count": 101,
   "id": "620deef2",
   "metadata": {},
   "outputs": [
    {
     "name": "stdout",
     "output_type": "stream",
     "text": [
      "https://api.themoviedb.org/3/tv/71446/credits?api_key=2faad79f82342aee18ec0d49fd12a48c\n"
     ]
    }
   ],
   "source": [
    "response3 = requests.get('https://api.themoviedb.org/3/tv/71446/credits', params = {'api_key':'2faad79f82342aee18ec0d49fd12a48c'})\n",
    "print(response3.url)"
   ]
  },
  {
   "cell_type": "code",
   "execution_count": 102,
   "id": "386f4d29",
   "metadata": {},
   "outputs": [
    {
     "name": "stdout",
     "output_type": "stream",
     "text": [
      "10   5\n"
     ]
    }
   ],
   "source": [
    "male = 0\n",
    "female = 0\n",
    "\n",
    "data = response3.json()\n",
    "adults = data['cast']\n",
    "\n",
    "for i in adults:\n",
    "    if i['gender'] == 2:\n",
    "        male = male + 1\n",
    "    elif i['gender'] == 1:\n",
    "        female += 1\n",
    "        \n",
    "print(male,\" \",female)        \n"
   ]
  }
 ],
 "metadata": {
  "kernelspec": {
   "display_name": "Python 3 (ipykernel)",
   "language": "python",
   "name": "python3"
  },
  "language_info": {
   "codemirror_mode": {
    "name": "ipython",
    "version": 3
   },
   "file_extension": ".py",
   "mimetype": "text/x-python",
   "name": "python",
   "nbconvert_exporter": "python",
   "pygments_lexer": "ipython3",
   "version": "3.8.2"
  }
 },
 "nbformat": 4,
 "nbformat_minor": 5
}
